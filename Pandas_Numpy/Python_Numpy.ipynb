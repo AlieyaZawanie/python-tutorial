{
  "nbformat": 4,
  "nbformat_minor": 0,
  "metadata": {
    "colab": {
      "provenance": [],
      "authorship_tag": "ABX9TyMO3JXz+JLvEk8Z54E8A6Zb",
      "include_colab_link": true
    },
    "kernelspec": {
      "name": "python3",
      "display_name": "Python 3"
    },
    "language_info": {
      "name": "python"
    }
  },
  "cells": [
    {
      "cell_type": "markdown",
      "metadata": {
        "id": "view-in-github",
        "colab_type": "text"
      },
      "source": [
        "<a href=\"https://colab.research.google.com/github/drshahizan/Pandas_Numpy/blob/main/Python_Numpy.ipynb\" target=\"_parent\"><img src=\"https://colab.research.google.com/assets/colab-badge.svg\" alt=\"Open In Colab\"/></a>"
      ]
    },
    {
      "cell_type": "markdown",
      "source": [
        "**Numpy** is a general-purpose array-processing package. It provides a high-performance multidimensional array object, and tools for working with these arrays. It is the fundamental package for scientific computing with Python.\n",
        "\n",
        "Besides its obvious scientific uses, Numpy can also be used as an efficient multi-dimensional container of generic data.\n",
        "\n",
        "Array in Numpy is a table of elements (usually numbers), all of the same type, indexed by a tuple of positive integers. In Numpy, number of dimensions of the array is called rank of the array.A tuple of integers giving the size of the array along each dimension is known as shape of the array. An array class in Numpy is called as **ndarray**. Elements in Numpy arrays are accessed by using square brackets and can be initialized by using nested Python Lists."
      ],
      "metadata": {
        "id": "heA3_nPuHv6_"
      }
    },
    {
      "cell_type": "markdown",
      "source": [
        "# Choosing NumPy: The Benefits\n",
        "Since you already know Python, you may be asking yourself if you really have to learn a whole new paradigm to do data science. Python’s for loops are awesome! Reading and writing CSV files can be done with traditional code. However, there are some convincing arguments for learning a new paradigm.\n",
        "\n",
        "Here are the top four benefits that NumPy can bring to your code:\n",
        "\n",
        "1. More speed: NumPy uses algorithms written in C that complete in nanoseconds rather than seconds.\n",
        "2. Fewer loops: NumPy helps you to reduce loops and keep from getting tangled up in iteration indices.\n",
        "3. Clearer code: Without loops, your code will look more like the equations you’re trying to calculate.\n",
        "4. Better quality: There are thousands of contributors working to keep NumPy fast, friendly, and bug free.\n",
        "\n",
        "Because of these benefits, NumPy is the de facto standard for multidimensional arrays in Python data science, and many of the most popular libraries are built on top of it. Learning NumPy is a great way to set down a solid foundation as you expand your knowledge into more specific areas of data science."
      ],
      "metadata": {
        "id": "a1eHM4yOJvCh"
      }
    },
    {
      "cell_type": "markdown",
      "source": [
        "# Creating a Numpy Array\n",
        "Arrays in Numpy can be created by multiple ways, with various number of Ranks, defining the size of the Array. Arrays can also be created with the use of various data types such as lists, tuples, etc. The type of the resultant array is deduced from the type of the elements in the sequences."
      ],
      "metadata": {
        "id": "Od9ak2fcH8mL"
      }
    },
    {
      "cell_type": "code",
      "source": [
        "# Python program for\n",
        "# Creation of Arrays\n",
        "import numpy as np\n",
        " \n",
        "# Creating a rank 1 Array\n",
        "arr = np.array([1, 2, 3])\n",
        "print(\"Array with Rank 1: \\n\",arr)\n",
        " \n",
        "# Creating a rank 2 Array\n",
        "arr = np.array([[1, 2, 3],\n",
        "                [4, 5, 6]])\n",
        "print(\"Array with Rank 2: \\n\", arr)\n",
        " \n",
        "# Creating an array from tuple\n",
        "arr = np.array((1, 3, 2))\n",
        "print(\"\\nArray created using \"\n",
        "      \"passed tuple:\\n\", arr)"
      ],
      "metadata": {
        "colab": {
          "base_uri": "https://localhost:8080/"
        },
        "id": "MrRRUEYRHvGv",
        "outputId": "c3fad7a0-4ed8-45e4-ef8d-fc6f239c09ca"
      },
      "execution_count": null,
      "outputs": [
        {
          "output_type": "stream",
          "name": "stdout",
          "text": [
            "Array with Rank 1: \n",
            " [1 2 3]\n",
            "Array with Rank 2: \n",
            " [[1 2 3]\n",
            " [4 5 6]]\n",
            "\n",
            "Array created using passed tuple:\n",
            " [1 3 2]\n"
          ]
        }
      ]
    },
    {
      "cell_type": "markdown",
      "source": [
        "# Accessing the array Index\n",
        "In a numpy array, indexing or accessing the array index can be done in multiple ways. To print a range of an array, slicing is done. Slicing of an array is defining a range in a new array which is used to print a range of elements from the original array. Since, sliced array holds a range of elements of the original array, modifying content with the help of sliced array modifies the original array content."
      ],
      "metadata": {
        "id": "yg0Kc7GoIbbW"
      }
    },
    {
      "cell_type": "code",
      "execution_count": null,
      "metadata": {
        "colab": {
          "base_uri": "https://localhost:8080/"
        },
        "id": "L007Wdu0HgBR",
        "outputId": "d77700c3-f6f4-4cbc-bafb-56efa57af0a2"
      },
      "outputs": [
        {
          "output_type": "stream",
          "name": "stdout",
          "text": [
            "Initial Array: \n",
            "[[-1.   2.   0.   4. ]\n",
            " [ 4.  -0.5  6.   0. ]\n",
            " [ 2.6  0.   7.   8. ]\n",
            " [ 3.  -7.   4.   2. ]]\n",
            "Array with first 2 rows and alternate columns(0 and 2):\n",
            " [[-1.  0.]\n",
            " [ 4.  6.]]\n",
            "\n",
            "Elements at indices (1, 3), (1, 2), (0, 1), (3, 0):\n",
            " [0. 6. 2. 3.]\n"
          ]
        }
      ],
      "source": [
        "# Python program to demonstrate\n",
        "# indexing in numpy array\n",
        "import numpy as np\n",
        " \n",
        "# Initial Array\n",
        "arr = np.array([[-1, 2, 0, 4],\n",
        "                [4, -0.5, 6, 0],\n",
        "                [2.6, 0, 7, 8],\n",
        "                [3, -7, 4, 2.0]])\n",
        "print(\"Initial Array: \")\n",
        "print(arr)\n",
        " \n",
        "# Printing a range of Array\n",
        "# with the use of slicing method\n",
        "sliced_arr = arr[:2, ::2]\n",
        "print (\"Array with first 2 rows and\"\n",
        "    \" alternate columns(0 and 2):\\n\", sliced_arr)\n",
        " \n",
        "# Printing elements at\n",
        "# specific Indices\n",
        "Index_arr = arr[[1, 1, 0, 3], \n",
        "                [3, 2, 1, 0]]\n",
        "print (\"\\nElements at indices (1, 3), \"\n",
        "    \"(1, 2), (0, 1), (3, 0):\\n\", Index_arr)"
      ]
    },
    {
      "cell_type": "markdown",
      "source": [
        "# Basic Array Operations\n",
        "In numpy, arrays allow a wide range of operations which can be performed on a particular array or a combination of Arrays. These operation include some basic Mathematical operation as well as Unary and Binary operations."
      ],
      "metadata": {
        "id": "nD-2CSwkIoJj"
      }
    },
    {
      "cell_type": "code",
      "source": [
        "# Python program to demonstrate\n",
        "# basic operations on single array\n",
        "import numpy as np\n",
        " \n",
        "# Defining Array 1\n",
        "a = np.array([[1, 2],\n",
        "              [3, 4]])\n",
        " \n",
        "# Defining Array 2\n",
        "b = np.array([[4, 3],\n",
        "              [2, 1]])\n",
        "               \n",
        "# Adding 1 to every element\n",
        "print (\"Adding 1 to every element:\", a + 1)\n",
        " \n",
        "# Subtracting 2 from each element\n",
        "print (\"\\nSubtracting 2 from each element:\", b - 2)\n",
        " \n",
        "# sum of array elements\n",
        "# Performing Unary operations\n",
        "print (\"\\nSum of all array \"\n",
        "       \"elements: \", a.sum())\n",
        " \n",
        "# Adding two arrays\n",
        "# Performing Binary operations\n",
        "print (\"\\nArray sum:\\n\", a + b)"
      ],
      "metadata": {
        "colab": {
          "base_uri": "https://localhost:8080/"
        },
        "id": "fqQhAJeVItij",
        "outputId": "bbf00cc6-6e6a-4138-8dca-2f46f18a94d1"
      },
      "execution_count": null,
      "outputs": [
        {
          "output_type": "stream",
          "name": "stdout",
          "text": [
            "Adding 1 to every element: [[2 3]\n",
            " [4 5]]\n",
            "\n",
            "Subtracting 2 from each element: [[ 2  1]\n",
            " [ 0 -1]]\n",
            "\n",
            "Sum of all array elements:  10\n",
            "\n",
            "Array sum:\n",
            " [[5 5]\n",
            " [5 5]]\n"
          ]
        }
      ]
    },
    {
      "cell_type": "markdown",
      "source": [
        "# Data Types in Numpy\n",
        "Every Numpy array is a table of elements (usually numbers), all of the same type, indexed by a tuple of positive integers. Every ndarray has an associated data type (dtype) object. This data type object (dtype) provides information about the layout of the array. The values of an ndarray are stored in a buffer which can be thought of as a contiguous block of memory bytes which can be interpreted by the dtype object. Numpy provides a large set of numeric datatypes that can be used to construct arrays. At the time of Array creation, Numpy tries to guess a datatype, but functions that construct arrays usually also include an optional argument to explicitly specify the datatype."
      ],
      "metadata": {
        "id": "nYu_pVIRIyVl"
      }
    },
    {
      "cell_type": "markdown",
      "source": [
        "## Constructing a Datatype Object\n",
        "In Numpy, datatypes of Arrays need not to be defined unless a specific datatype is required. Numpy tries to guess the datatype for Arrays which are not predefined in the constructor function."
      ],
      "metadata": {
        "id": "OqZAp0zqI4Yj"
      }
    },
    {
      "cell_type": "code",
      "source": [
        "# Python Program to create\n",
        "# a data type object\n",
        "import numpy as np\n",
        " \n",
        "# Integer datatype\n",
        "# guessed by Numpy\n",
        "x = np.array([1, 2])  \n",
        "print(\"Integer Datatype: \")\n",
        "print(x.dtype)         \n",
        " \n",
        "# Float datatype\n",
        "# guessed by Numpy\n",
        "x = np.array([1.0, 2.0]) \n",
        "print(\"\\nFloat Datatype: \")\n",
        "print(x.dtype)  \n",
        " \n",
        "# Forced Datatype\n",
        "x = np.array([1, 2], dtype = np.int64)   \n",
        "print(\"\\nForcing a Datatype: \")\n",
        "print(x.dtype)"
      ],
      "metadata": {
        "colab": {
          "base_uri": "https://localhost:8080/"
        },
        "id": "yGFcV8wyI_Fv",
        "outputId": "ec3d562f-4c4c-416e-982c-3b78d9558f52"
      },
      "execution_count": null,
      "outputs": [
        {
          "output_type": "stream",
          "name": "stdout",
          "text": [
            "Integer Datatype: \n",
            "int64\n",
            "\n",
            "Float Datatype: \n",
            "float64\n",
            "\n",
            "Forcing a Datatype: \n",
            "int64\n"
          ]
        }
      ]
    },
    {
      "cell_type": "markdown",
      "source": [
        "## Math Operations on DataType array\n",
        "In Numpy arrays, basic mathematical operations are performed element-wise on the array. These operations are applied both as operator overloads and as functions. Many useful functions are provided in Numpy for performing computations on Arrays such as sum: for addition of Array elements, T: for Transpose of elements, etc."
      ],
      "metadata": {
        "id": "Pbp5YyHcJKPL"
      }
    },
    {
      "cell_type": "code",
      "source": [
        "# Python Program to create\n",
        "# a data type object\n",
        "import numpy as np\n",
        " \n",
        "# First Array\n",
        "arr1 = np.array([[4, 7], [2, 6]], \n",
        "                 dtype = np.float64)\n",
        "                  \n",
        "# Second Array\n",
        "arr2 = np.array([[3, 6], [2, 8]], \n",
        "                 dtype = np.float64) \n",
        " \n",
        "# Addition of two Arrays\n",
        "Sum = np.add(arr1, arr2)\n",
        "print(\"Addition of Two Arrays: \")\n",
        "print(Sum)\n",
        " \n",
        "# Addition of all Array elements\n",
        "# using predefined sum method\n",
        "Sum1 = np.sum(arr1)\n",
        "print(\"\\nAddition of Array elements: \")\n",
        "print(Sum1)\n",
        " \n",
        "# Square root of Array\n",
        "Sqrt = np.sqrt(arr1)\n",
        "print(\"\\nSquare root of Array1 elements: \")\n",
        "print(Sqrt)\n",
        " \n",
        "# Transpose of Array\n",
        "# using In-built function 'T'\n",
        "Trans_arr = arr1.T\n",
        "print(\"\\nTranspose of Array: \")\n",
        "print(Trans_arr)"
      ],
      "metadata": {
        "colab": {
          "base_uri": "https://localhost:8080/"
        },
        "id": "gPGPUPCpJPbd",
        "outputId": "17b44f3e-d974-4fd8-9b4e-2872f729f6cc"
      },
      "execution_count": null,
      "outputs": [
        {
          "output_type": "stream",
          "name": "stdout",
          "text": [
            "Addition of Two Arrays: \n",
            "[[ 7. 13.]\n",
            " [ 4. 14.]]\n",
            "\n",
            "Addition of Array elements: \n",
            "19.0\n",
            "\n",
            "Square root of Array1 elements: \n",
            "[[2.         2.64575131]\n",
            " [1.41421356 2.44948974]]\n",
            "\n",
            "Transpose of Array: \n",
            "[[4. 2.]\n",
            " [7. 6.]]\n"
          ]
        }
      ]
    }
  ]
}