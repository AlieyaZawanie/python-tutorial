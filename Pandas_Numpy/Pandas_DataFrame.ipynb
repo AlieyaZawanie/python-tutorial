{
  "nbformat": 4,
  "nbformat_minor": 0,
  "metadata": {
    "colab": {
      "provenance": [],
      "toc_visible": true,
      "authorship_tag": "ABX9TyNVZBLG7HlEf+MkwVQ4fPny",
      "include_colab_link": true
    },
    "kernelspec": {
      "name": "python3",
      "display_name": "Python 3"
    },
    "language_info": {
      "name": "python"
    }
  },
  "cells": [
    {
      "cell_type": "markdown",
      "metadata": {
        "id": "view-in-github",
        "colab_type": "text"
      },
      "source": [
        "<a href=\"https://colab.research.google.com/github/drshahizan/Pandas_Numpy/blob/main/Pandas_DataFrame.ipynb\" target=\"_parent\"><img src=\"https://colab.research.google.com/assets/colab-badge.svg\" alt=\"Open In Colab\"/></a>"
      ]
    },
    {
      "cell_type": "markdown",
      "source": [
        "**Pandas DataFrame** is two-dimensional size-mutable, potentially heterogeneous tabular data structure with labeled axes (rows and columns). A Data frame is a two-dimensional data structure, i.e., data is aligned in a tabular fashion in rows and columns. Pandas DataFrame consists of three principal components, the **data**, **rows**, and **columns**.\n",
        "\n",
        "![DataFrame](https://media.geeksforgeeks.org/wp-content/uploads/finallpandas.png)\n",
        "\n",
        "We will get a brief insight on all these basic operation which can be performed on Pandas DataFrame :\n",
        "\n",
        "* Creating a DataFrame\n",
        "* Dealing with Rows and Columns\n",
        "* Indexing and Selecting Data\n",
        "* Working with Missing Data\n",
        "* Iterating over rows and columns"
      ],
      "metadata": {
        "id": "Ee3y1SFIjiCX"
      }
    },
    {
      "cell_type": "markdown",
      "source": [
        "# Creating a Pandas DataFrame\n",
        "In the real world, a Pandas DataFrame will be created by loading the datasets from existing storage, storage can be SQL Database, CSV file, and Excel file. Pandas DataFrame can be created from the lists, dictionary, and from a list of dictionary etc. Dataframe can be created in different ways here are some ways by which we create a dataframe:"
      ],
      "metadata": {
        "id": "9L97Ex_Qk9z7"
      }
    },
    {
      "cell_type": "markdown",
      "source": [
        "## Creating a dataframe using List\n",
        "DataFrame can be created using a single list or a list of lists."
      ],
      "metadata": {
        "id": "zagsioQGlMlc"
      }
    },
    {
      "cell_type": "code",
      "execution_count": null,
      "metadata": {
        "colab": {
          "base_uri": "https://localhost:8080/"
        },
        "id": "loEM3LknjbH8",
        "outputId": "dcaaa9e9-59cb-4ffb-81cc-795d65dd2a90"
      },
      "outputs": [
        {
          "output_type": "stream",
          "name": "stdout",
          "text": [
            "          0\n",
            "0    Pandas\n",
            "1     Numpy\n",
            "2    Python\n",
            "3        is\n",
            "4    portal\n",
            "5       for\n",
            "6  Malaysia\n"
          ]
        }
      ],
      "source": [
        "# import pandas as pd\n",
        "import pandas as pd\n",
        " \n",
        "# list of strings\n",
        "lst = ['Pandas', 'Numpy', 'Python', 'is', \n",
        "            'portal', 'for', 'Malaysia']\n",
        " \n",
        "# Calling DataFrame constructor on list\n",
        "df = pd.DataFrame(lst)\n",
        "print(df)"
      ]
    },
    {
      "cell_type": "markdown",
      "source": [
        "## Creating DataFrame from dict of ndarray/lists \n",
        "To create DataFrame from dict of narray/list, all the narray must be of same length. If index is passed then the length index should be equal to the length of arrays. If no index is passed, then by default, index will be range(n) where n is the array length."
      ],
      "metadata": {
        "id": "2fEl36DDmAnm"
      }
    },
    {
      "cell_type": "code",
      "source": [
        "# Python code demonstrate creating \n",
        "# DataFrame from dict narray / lists \n",
        "# By default addresses.\n",
        " \n",
        "import pandas as pd\n",
        " \n",
        "# intialise data of lists.\n",
        "data = {'Name':['Shah', 'Aiman', 'Liza', 'Afiqah'],\n",
        "        'Age':[20, 21, 19, 18]}\n",
        " \n",
        "# Create DataFrame\n",
        "df = pd.DataFrame(data)\n",
        " \n",
        "# Print the output.\n",
        "print(df)"
      ],
      "metadata": {
        "colab": {
          "base_uri": "https://localhost:8080/"
        },
        "id": "PrtyZtn4mXUo",
        "outputId": "354d6741-1c7e-4644-dd1b-4a741a58f201"
      },
      "execution_count": null,
      "outputs": [
        {
          "output_type": "stream",
          "name": "stdout",
          "text": [
            "     Name  Age\n",
            "0    Shah   20\n",
            "1   Aiman   21\n",
            "2    Liza   19\n",
            "3  Afiqah   18\n"
          ]
        }
      ]
    },
    {
      "cell_type": "markdown",
      "source": [
        "# Dealing with Rows and Columns\n",
        "A Data frame is a two-dimensional data structure, i.e., data is aligned in a tabular fashion in rows and columns. We can perform basic operations on rows/columns like selecting, deleting, adding, and renaming."
      ],
      "metadata": {
        "id": "4GGpi22Hmsy6"
      }
    },
    {
      "cell_type": "markdown",
      "source": [
        "## Column Selection\n",
        "In Order to select a column in Pandas DataFrame, we can either access the columns by calling them by their columns name."
      ],
      "metadata": {
        "id": "tNHLegcomx28"
      }
    },
    {
      "cell_type": "code",
      "source": [
        "# Import pandas package\n",
        "import pandas as pd\n",
        " \n",
        "# Define a dictionary containing employee data\n",
        "data = {'Name':['Shah', 'Aiman', 'Liza', 'Afiqah'],\n",
        "        'Age':[27, 24, 22, 32],\n",
        "        'Address':['Johor Bahru', 'Melaka', 'Batu Pahat', 'Skudai'],\n",
        "        'Qualification':['Msc', 'MA', 'MCA', 'Phd']}\n",
        " \n",
        "# Convert the dictionary into DataFrame \n",
        "df = pd.DataFrame(data)\n",
        " \n",
        "# select two columns\n",
        "print(df[['Name', 'Qualification']])"
      ],
      "metadata": {
        "colab": {
          "base_uri": "https://localhost:8080/"
        },
        "id": "MuLydik6m5fj",
        "outputId": "d731ae2c-afd4-4d4e-bbf3-4dd1ba3571cb"
      },
      "execution_count": null,
      "outputs": [
        {
          "output_type": "stream",
          "name": "stdout",
          "text": [
            "     Name Qualification\n",
            "0    Shah           Msc\n",
            "1   Aiman            MA\n",
            "2    Liza           MCA\n",
            "3  Afiqah           Phd\n"
          ]
        }
      ]
    },
    {
      "cell_type": "markdown",
      "source": [
        "## Row Selection\n",
        "Pandas provide a unique method to retrieve rows from a Data frame. DataFrame.loc[] method is used to retrieve rows from Pandas DataFrame. Rows can also be selected by passing integer location to an iloc[] function."
      ],
      "metadata": {
        "id": "UxLmZDPQnvY6"
      }
    },
    {
      "cell_type": "code",
      "source": [
        "# importing pandas package\n",
        "import pandas as pd\n",
        " \n",
        "# making data frame from csv file\n",
        "url ='https://raw.githubusercontent.com/drshahizan/dataset/main/nba.csv'\n",
        "data = pd.read_csv(url, index_col =\"Name\")\n",
        " \n",
        "# retrieving row by loc method\n",
        "first = data.loc[\"Avery Bradley\"]\n",
        "second = data.loc[\"R.J. Hunter\"]\n",
        " \n",
        " \n",
        "print(first, \"\\n\\n\\n\", second)"
      ],
      "metadata": {
        "colab": {
          "base_uri": "https://localhost:8080/"
        },
        "id": "ZTJfVPSKn7gh",
        "outputId": "bb2c6ca0-7688-47a0-d64c-0e3ac4e2102d"
      },
      "execution_count": null,
      "outputs": [
        {
          "output_type": "stream",
          "name": "stdout",
          "text": [
            "Team        Boston Celtics\n",
            "Number                 0.0\n",
            "Position                PG\n",
            "Age                   25.0\n",
            "Height                 6-2\n",
            "Weight               180.0\n",
            "College              Texas\n",
            "Salary           7730337.0\n",
            "Name: Avery Bradley, dtype: object \n",
            "\n",
            "\n",
            " Team        Boston Celtics\n",
            "Number                28.0\n",
            "Position                SG\n",
            "Age                   22.0\n",
            "Height                 6-5\n",
            "Weight               185.0\n",
            "College      Georgia State\n",
            "Salary           1148640.0\n",
            "Name: R.J. Hunter, dtype: object\n"
          ]
        }
      ]
    },
    {
      "cell_type": "markdown",
      "source": [
        "## Indexing and Selecting Data\n",
        "Indexing in pandas means simply selecting particular rows and columns of data from a DataFrame. Indexing could mean selecting all the rows and some of the columns, some of the rows and all of the columns, or some of each of the rows and columns. Indexing can also be known as Subset Selection.\n",
        "\n",
        "Indexing a Dataframe using indexing operator [] :\n",
        "Indexing operator is used to refer to the square brackets following an object. The .loc and .iloc indexers also use the indexing operator to make selections. In this indexing operator to refer to df[]."
      ],
      "metadata": {
        "id": "8MBa482TodmO"
      }
    },
    {
      "cell_type": "markdown",
      "source": [
        "### Selecting a single columns\n",
        "In order to select a single column, we simply put the name of the column in-between the brackets"
      ],
      "metadata": {
        "id": "T5WSVG6XorD-"
      }
    },
    {
      "cell_type": "code",
      "source": [
        "# importing pandas package\n",
        "import pandas as pd\n",
        " \n",
        "# making data frame from csv file\n",
        "url ='https://raw.githubusercontent.com/drshahizan/dataset/main/nba.csv'\n",
        "data = pd.read_csv(url, index_col =\"Name\")\n",
        " \n",
        "# retrieving columns by indexing operator\n",
        "first = data[\"Age\"]\n",
        " \n",
        "print(first)"
      ],
      "metadata": {
        "colab": {
          "base_uri": "https://localhost:8080/"
        },
        "id": "03tqmh8jpDIH",
        "outputId": "f7e056f0-75fd-4e33-d82f-99f6088ddc42"
      },
      "execution_count": null,
      "outputs": [
        {
          "output_type": "stream",
          "name": "stdout",
          "text": [
            "Name\n",
            "Avery Bradley    25.0\n",
            "Jae Crowder      25.0\n",
            "John Holland     27.0\n",
            "R.J. Hunter      22.0\n",
            "Jonas Jerebko    29.0\n",
            "                 ... \n",
            "Shelvin Mack     26.0\n",
            "Raul Neto        24.0\n",
            "Tibor Pleiss     26.0\n",
            "Jeff Withey      26.0\n",
            "NaN               NaN\n",
            "Name: Age, Length: 458, dtype: float64\n"
          ]
        }
      ]
    },
    {
      "cell_type": "markdown",
      "source": [
        "## Indexing a DataFrame using .loc[ ] :\n",
        "This function selects data by the label of the rows and columns. The df.loc indexer selects data in a different way than just the indexing operator. It can select subsets of rows or columns. It can also simultaneously select subsets of rows and columns."
      ],
      "metadata": {
        "id": "PpADlnZEpXQQ"
      }
    },
    {
      "cell_type": "markdown",
      "source": [
        "### Selecting a single row\n",
        "In order to select a single row using .loc[], we put a single row label in a .loc function."
      ],
      "metadata": {
        "id": "KH-SlhD5pcvE"
      }
    },
    {
      "cell_type": "code",
      "source": [
        "# importing pandas package\n",
        "import pandas as pd\n",
        " \n",
        "# making data frame from csv file\n",
        "url ='https://raw.githubusercontent.com/drshahizan/dataset/main/nba.csv'\n",
        "data = pd.read_csv(url, index_col =\"Name\")\n",
        " \n",
        "# retrieving row by loc method\n",
        "first = data.loc[\"Avery Bradley\"]\n",
        "second = data.loc[\"R.J. Hunter\"]\n",
        " \n",
        " \n",
        "print(first, \"\\n\\n\\n\", second)"
      ],
      "metadata": {
        "colab": {
          "base_uri": "https://localhost:8080/"
        },
        "id": "SGUZhmTZpiB0",
        "outputId": "9ab56c74-b3b7-4a7a-b495-a8fe13228d3a"
      },
      "execution_count": null,
      "outputs": [
        {
          "output_type": "stream",
          "name": "stdout",
          "text": [
            "Team        Boston Celtics\n",
            "Number                 0.0\n",
            "Position                PG\n",
            "Age                   25.0\n",
            "Height                 6-2\n",
            "Weight               180.0\n",
            "College              Texas\n",
            "Salary           7730337.0\n",
            "Name: Avery Bradley, dtype: object \n",
            "\n",
            "\n",
            " Team        Boston Celtics\n",
            "Number                28.0\n",
            "Position                SG\n",
            "Age                   22.0\n",
            "Height                 6-5\n",
            "Weight               185.0\n",
            "College      Georgia State\n",
            "Salary           1148640.0\n",
            "Name: R.J. Hunter, dtype: object\n"
          ]
        }
      ]
    },
    {
      "cell_type": "markdown",
      "source": [
        "## Indexing a DataFrame using .iloc[ ] :\n",
        "This function allows us to retrieve rows and columns by position. In order to do that, we’ll need to specify the positions of the rows that we want, and the positions of the columns that we want as well. The df.iloc indexer is very similar to df.loc but only uses integer locations to make its selections."
      ],
      "metadata": {
        "id": "8_yBmo0WprEW"
      }
    },
    {
      "cell_type": "markdown",
      "source": [
        "### Selecting a single row\n",
        "In order to select a single row using .iloc[], we can pass a single integer to .iloc[] function."
      ],
      "metadata": {
        "id": "Jm6n9-5Cpvfv"
      }
    },
    {
      "cell_type": "code",
      "source": [
        "import pandas as pd\n",
        " \n",
        "# making data frame from csv file\n",
        "url ='https://raw.githubusercontent.com/drshahizan/dataset/main/nba.csv'\n",
        "data = pd.read_csv(url, index_col =\"Name\")\n",
        " \n",
        "# retrieving rows by iloc method \n",
        "row2 = data.iloc[3] \n",
        " \n",
        "print(row2)"
      ],
      "metadata": {
        "colab": {
          "base_uri": "https://localhost:8080/"
        },
        "id": "veHAC7IJpz9V",
        "outputId": "f33b7bc2-76a0-4969-af38-cc849ea24bd5"
      },
      "execution_count": null,
      "outputs": [
        {
          "output_type": "stream",
          "name": "stdout",
          "text": [
            "Team        Boston Celtics\n",
            "Number                28.0\n",
            "Position                SG\n",
            "Age                   22.0\n",
            "Height                 6-5\n",
            "Weight               185.0\n",
            "College      Georgia State\n",
            "Salary           1148640.0\n",
            "Name: R.J. Hunter, dtype: object\n"
          ]
        }
      ]
    },
    {
      "cell_type": "markdown",
      "source": [
        "## Working with Missing Data\n",
        "Missing Data can occur when no information is provided for one or more items or for a whole unit. Missing Data is a very big problem in real life scenario. Missing Data can also refer to as NA(Not Available) values in pandas."
      ],
      "metadata": {
        "id": "6nymFPHEqA4I"
      }
    },
    {
      "cell_type": "markdown",
      "source": [
        "### Checking for missing values using isnull() and notnull()\n",
        "In order to check missing values in Pandas DataFrame, we use a function isnull() and notnull(). Both function help in checking whether a value is NaN or not. These function can also be used in Pandas Series in order to find null values in a series."
      ],
      "metadata": {
        "id": "MsnmODH-qFus"
      }
    },
    {
      "cell_type": "code",
      "source": [
        "# importing pandas as pd\n",
        "import pandas as pd\n",
        " \n",
        "# importing numpy as np\n",
        "import numpy as np\n",
        " \n",
        "# dictionary of lists\n",
        "dict = {'First Score':[100, 90, np.nan, 95],\n",
        "        'Second Score': [30, 45, 56, np.nan],\n",
        "        'Third Score':[np.nan, 40, 80, 98]}\n",
        " \n",
        "# creating a dataframe from list\n",
        "df = pd.DataFrame(dict)\n",
        " \n",
        "# using isnull() function  \n",
        "df.isnull()"
      ],
      "metadata": {
        "colab": {
          "base_uri": "https://localhost:8080/",
          "height": 175
        },
        "id": "gOMjXipIqLEi",
        "outputId": "20661ba0-2ba1-4dd7-f2e5-adbf15fa13a3"
      },
      "execution_count": null,
      "outputs": [
        {
          "output_type": "execute_result",
          "data": {
            "text/plain": [
              "   First Score  Second Score  Third Score\n",
              "0        False         False         True\n",
              "1        False         False        False\n",
              "2         True         False        False\n",
              "3        False          True        False"
            ],
            "text/html": [
              "\n",
              "  <div id=\"df-1c3d6d06-2047-4fb1-ba0b-11d21ed14324\">\n",
              "    <div class=\"colab-df-container\">\n",
              "      <div>\n",
              "<style scoped>\n",
              "    .dataframe tbody tr th:only-of-type {\n",
              "        vertical-align: middle;\n",
              "    }\n",
              "\n",
              "    .dataframe tbody tr th {\n",
              "        vertical-align: top;\n",
              "    }\n",
              "\n",
              "    .dataframe thead th {\n",
              "        text-align: right;\n",
              "    }\n",
              "</style>\n",
              "<table border=\"1\" class=\"dataframe\">\n",
              "  <thead>\n",
              "    <tr style=\"text-align: right;\">\n",
              "      <th></th>\n",
              "      <th>First Score</th>\n",
              "      <th>Second Score</th>\n",
              "      <th>Third Score</th>\n",
              "    </tr>\n",
              "  </thead>\n",
              "  <tbody>\n",
              "    <tr>\n",
              "      <th>0</th>\n",
              "      <td>False</td>\n",
              "      <td>False</td>\n",
              "      <td>True</td>\n",
              "    </tr>\n",
              "    <tr>\n",
              "      <th>1</th>\n",
              "      <td>False</td>\n",
              "      <td>False</td>\n",
              "      <td>False</td>\n",
              "    </tr>\n",
              "    <tr>\n",
              "      <th>2</th>\n",
              "      <td>True</td>\n",
              "      <td>False</td>\n",
              "      <td>False</td>\n",
              "    </tr>\n",
              "    <tr>\n",
              "      <th>3</th>\n",
              "      <td>False</td>\n",
              "      <td>True</td>\n",
              "      <td>False</td>\n",
              "    </tr>\n",
              "  </tbody>\n",
              "</table>\n",
              "</div>\n",
              "      <button class=\"colab-df-convert\" onclick=\"convertToInteractive('df-1c3d6d06-2047-4fb1-ba0b-11d21ed14324')\"\n",
              "              title=\"Convert this dataframe to an interactive table.\"\n",
              "              style=\"display:none;\">\n",
              "        \n",
              "  <svg xmlns=\"http://www.w3.org/2000/svg\" height=\"24px\"viewBox=\"0 0 24 24\"\n",
              "       width=\"24px\">\n",
              "    <path d=\"M0 0h24v24H0V0z\" fill=\"none\"/>\n",
              "    <path d=\"M18.56 5.44l.94 2.06.94-2.06 2.06-.94-2.06-.94-.94-2.06-.94 2.06-2.06.94zm-11 1L8.5 8.5l.94-2.06 2.06-.94-2.06-.94L8.5 2.5l-.94 2.06-2.06.94zm10 10l.94 2.06.94-2.06 2.06-.94-2.06-.94-.94-2.06-.94 2.06-2.06.94z\"/><path d=\"M17.41 7.96l-1.37-1.37c-.4-.4-.92-.59-1.43-.59-.52 0-1.04.2-1.43.59L10.3 9.45l-7.72 7.72c-.78.78-.78 2.05 0 2.83L4 21.41c.39.39.9.59 1.41.59.51 0 1.02-.2 1.41-.59l7.78-7.78 2.81-2.81c.8-.78.8-2.07 0-2.86zM5.41 20L4 18.59l7.72-7.72 1.47 1.35L5.41 20z\"/>\n",
              "  </svg>\n",
              "      </button>\n",
              "      \n",
              "  <style>\n",
              "    .colab-df-container {\n",
              "      display:flex;\n",
              "      flex-wrap:wrap;\n",
              "      gap: 12px;\n",
              "    }\n",
              "\n",
              "    .colab-df-convert {\n",
              "      background-color: #E8F0FE;\n",
              "      border: none;\n",
              "      border-radius: 50%;\n",
              "      cursor: pointer;\n",
              "      display: none;\n",
              "      fill: #1967D2;\n",
              "      height: 32px;\n",
              "      padding: 0 0 0 0;\n",
              "      width: 32px;\n",
              "    }\n",
              "\n",
              "    .colab-df-convert:hover {\n",
              "      background-color: #E2EBFA;\n",
              "      box-shadow: 0px 1px 2px rgba(60, 64, 67, 0.3), 0px 1px 3px 1px rgba(60, 64, 67, 0.15);\n",
              "      fill: #174EA6;\n",
              "    }\n",
              "\n",
              "    [theme=dark] .colab-df-convert {\n",
              "      background-color: #3B4455;\n",
              "      fill: #D2E3FC;\n",
              "    }\n",
              "\n",
              "    [theme=dark] .colab-df-convert:hover {\n",
              "      background-color: #434B5C;\n",
              "      box-shadow: 0px 1px 3px 1px rgba(0, 0, 0, 0.15);\n",
              "      filter: drop-shadow(0px 1px 2px rgba(0, 0, 0, 0.3));\n",
              "      fill: #FFFFFF;\n",
              "    }\n",
              "  </style>\n",
              "\n",
              "      <script>\n",
              "        const buttonEl =\n",
              "          document.querySelector('#df-1c3d6d06-2047-4fb1-ba0b-11d21ed14324 button.colab-df-convert');\n",
              "        buttonEl.style.display =\n",
              "          google.colab.kernel.accessAllowed ? 'block' : 'none';\n",
              "\n",
              "        async function convertToInteractive(key) {\n",
              "          const element = document.querySelector('#df-1c3d6d06-2047-4fb1-ba0b-11d21ed14324');\n",
              "          const dataTable =\n",
              "            await google.colab.kernel.invokeFunction('convertToInteractive',\n",
              "                                                     [key], {});\n",
              "          if (!dataTable) return;\n",
              "\n",
              "          const docLinkHtml = 'Like what you see? Visit the ' +\n",
              "            '<a target=\"_blank\" href=https://colab.research.google.com/notebooks/data_table.ipynb>data table notebook</a>'\n",
              "            + ' to learn more about interactive tables.';\n",
              "          element.innerHTML = '';\n",
              "          dataTable['output_type'] = 'display_data';\n",
              "          await google.colab.output.renderOutput(dataTable, element);\n",
              "          const docLink = document.createElement('div');\n",
              "          docLink.innerHTML = docLinkHtml;\n",
              "          element.appendChild(docLink);\n",
              "        }\n",
              "      </script>\n",
              "    </div>\n",
              "  </div>\n",
              "  "
            ]
          },
          "metadata": {},
          "execution_count": 10
        }
      ]
    },
    {
      "cell_type": "markdown",
      "source": [
        "### Filling missing values using fillna(), replace() and interpolate()\n",
        "In order to fill null values in a datasets, we use fillna(), replace() and interpolate() function these function replace NaN values with some value of their own. All these function help in filling a null values in datasets of a DataFrame. Interpolate() function is basically used to fill NA values in the dataframe but it uses various interpolation technique to fill the missing values rather than hard-coding the value."
      ],
      "metadata": {
        "id": "W7I54Cu4qQLt"
      }
    },
    {
      "cell_type": "code",
      "source": [
        "# importing pandas as pd\n",
        "import pandas as pd\n",
        " \n",
        "# importing numpy as np\n",
        "import numpy as np\n",
        " \n",
        "# dictionary of lists\n",
        "dict = {'First Score':[100, 90, np.nan, 95],\n",
        "        'Second Score': [30, 45, 56, np.nan],\n",
        "        'Third Score':[np.nan, 40, 80, 98]}\n",
        " \n",
        "# creating a dataframe from dictionary\n",
        "df = pd.DataFrame(dict)\n",
        " \n",
        "# filling missing value using fillna()  \n",
        "df.fillna(0)"
      ],
      "metadata": {
        "colab": {
          "base_uri": "https://localhost:8080/",
          "height": 175
        },
        "id": "d59lYMlgqVcu",
        "outputId": "61def35b-7b22-456d-be7b-83eccab5deb4"
      },
      "execution_count": null,
      "outputs": [
        {
          "output_type": "execute_result",
          "data": {
            "text/plain": [
              "   First Score  Second Score  Third Score\n",
              "0        100.0          30.0          0.0\n",
              "1         90.0          45.0         40.0\n",
              "2          0.0          56.0         80.0\n",
              "3         95.0           0.0         98.0"
            ],
            "text/html": [
              "\n",
              "  <div id=\"df-cf32b0c6-20b3-4cab-82de-8a0158886c7a\">\n",
              "    <div class=\"colab-df-container\">\n",
              "      <div>\n",
              "<style scoped>\n",
              "    .dataframe tbody tr th:only-of-type {\n",
              "        vertical-align: middle;\n",
              "    }\n",
              "\n",
              "    .dataframe tbody tr th {\n",
              "        vertical-align: top;\n",
              "    }\n",
              "\n",
              "    .dataframe thead th {\n",
              "        text-align: right;\n",
              "    }\n",
              "</style>\n",
              "<table border=\"1\" class=\"dataframe\">\n",
              "  <thead>\n",
              "    <tr style=\"text-align: right;\">\n",
              "      <th></th>\n",
              "      <th>First Score</th>\n",
              "      <th>Second Score</th>\n",
              "      <th>Third Score</th>\n",
              "    </tr>\n",
              "  </thead>\n",
              "  <tbody>\n",
              "    <tr>\n",
              "      <th>0</th>\n",
              "      <td>100.0</td>\n",
              "      <td>30.0</td>\n",
              "      <td>0.0</td>\n",
              "    </tr>\n",
              "    <tr>\n",
              "      <th>1</th>\n",
              "      <td>90.0</td>\n",
              "      <td>45.0</td>\n",
              "      <td>40.0</td>\n",
              "    </tr>\n",
              "    <tr>\n",
              "      <th>2</th>\n",
              "      <td>0.0</td>\n",
              "      <td>56.0</td>\n",
              "      <td>80.0</td>\n",
              "    </tr>\n",
              "    <tr>\n",
              "      <th>3</th>\n",
              "      <td>95.0</td>\n",
              "      <td>0.0</td>\n",
              "      <td>98.0</td>\n",
              "    </tr>\n",
              "  </tbody>\n",
              "</table>\n",
              "</div>\n",
              "      <button class=\"colab-df-convert\" onclick=\"convertToInteractive('df-cf32b0c6-20b3-4cab-82de-8a0158886c7a')\"\n",
              "              title=\"Convert this dataframe to an interactive table.\"\n",
              "              style=\"display:none;\">\n",
              "        \n",
              "  <svg xmlns=\"http://www.w3.org/2000/svg\" height=\"24px\"viewBox=\"0 0 24 24\"\n",
              "       width=\"24px\">\n",
              "    <path d=\"M0 0h24v24H0V0z\" fill=\"none\"/>\n",
              "    <path d=\"M18.56 5.44l.94 2.06.94-2.06 2.06-.94-2.06-.94-.94-2.06-.94 2.06-2.06.94zm-11 1L8.5 8.5l.94-2.06 2.06-.94-2.06-.94L8.5 2.5l-.94 2.06-2.06.94zm10 10l.94 2.06.94-2.06 2.06-.94-2.06-.94-.94-2.06-.94 2.06-2.06.94z\"/><path d=\"M17.41 7.96l-1.37-1.37c-.4-.4-.92-.59-1.43-.59-.52 0-1.04.2-1.43.59L10.3 9.45l-7.72 7.72c-.78.78-.78 2.05 0 2.83L4 21.41c.39.39.9.59 1.41.59.51 0 1.02-.2 1.41-.59l7.78-7.78 2.81-2.81c.8-.78.8-2.07 0-2.86zM5.41 20L4 18.59l7.72-7.72 1.47 1.35L5.41 20z\"/>\n",
              "  </svg>\n",
              "      </button>\n",
              "      \n",
              "  <style>\n",
              "    .colab-df-container {\n",
              "      display:flex;\n",
              "      flex-wrap:wrap;\n",
              "      gap: 12px;\n",
              "    }\n",
              "\n",
              "    .colab-df-convert {\n",
              "      background-color: #E8F0FE;\n",
              "      border: none;\n",
              "      border-radius: 50%;\n",
              "      cursor: pointer;\n",
              "      display: none;\n",
              "      fill: #1967D2;\n",
              "      height: 32px;\n",
              "      padding: 0 0 0 0;\n",
              "      width: 32px;\n",
              "    }\n",
              "\n",
              "    .colab-df-convert:hover {\n",
              "      background-color: #E2EBFA;\n",
              "      box-shadow: 0px 1px 2px rgba(60, 64, 67, 0.3), 0px 1px 3px 1px rgba(60, 64, 67, 0.15);\n",
              "      fill: #174EA6;\n",
              "    }\n",
              "\n",
              "    [theme=dark] .colab-df-convert {\n",
              "      background-color: #3B4455;\n",
              "      fill: #D2E3FC;\n",
              "    }\n",
              "\n",
              "    [theme=dark] .colab-df-convert:hover {\n",
              "      background-color: #434B5C;\n",
              "      box-shadow: 0px 1px 3px 1px rgba(0, 0, 0, 0.15);\n",
              "      filter: drop-shadow(0px 1px 2px rgba(0, 0, 0, 0.3));\n",
              "      fill: #FFFFFF;\n",
              "    }\n",
              "  </style>\n",
              "\n",
              "      <script>\n",
              "        const buttonEl =\n",
              "          document.querySelector('#df-cf32b0c6-20b3-4cab-82de-8a0158886c7a button.colab-df-convert');\n",
              "        buttonEl.style.display =\n",
              "          google.colab.kernel.accessAllowed ? 'block' : 'none';\n",
              "\n",
              "        async function convertToInteractive(key) {\n",
              "          const element = document.querySelector('#df-cf32b0c6-20b3-4cab-82de-8a0158886c7a');\n",
              "          const dataTable =\n",
              "            await google.colab.kernel.invokeFunction('convertToInteractive',\n",
              "                                                     [key], {});\n",
              "          if (!dataTable) return;\n",
              "\n",
              "          const docLinkHtml = 'Like what you see? Visit the ' +\n",
              "            '<a target=\"_blank\" href=https://colab.research.google.com/notebooks/data_table.ipynb>data table notebook</a>'\n",
              "            + ' to learn more about interactive tables.';\n",
              "          element.innerHTML = '';\n",
              "          dataTable['output_type'] = 'display_data';\n",
              "          await google.colab.output.renderOutput(dataTable, element);\n",
              "          const docLink = document.createElement('div');\n",
              "          docLink.innerHTML = docLinkHtml;\n",
              "          element.appendChild(docLink);\n",
              "        }\n",
              "      </script>\n",
              "    </div>\n",
              "  </div>\n",
              "  "
            ]
          },
          "metadata": {},
          "execution_count": 11
        }
      ]
    },
    {
      "cell_type": "markdown",
      "source": [
        "### Dropping missing values using dropna() :\n",
        "In order to drop a null values from a dataframe, we used dropna() function this fuction drop Rows/Columns of datasets with Null values in different ways."
      ],
      "metadata": {
        "id": "XeO4XQBGqdpR"
      }
    },
    {
      "cell_type": "code",
      "source": [
        "# importing pandas as pd\n",
        "import pandas as pd\n",
        " \n",
        "# importing numpy as np\n",
        "import numpy as np\n",
        " \n",
        "# dictionary of lists\n",
        "dict = {'First Score':[100, 90, np.nan, 95],\n",
        "        'Second Score': [30, np.nan, 45, 56],\n",
        "        'Third Score':[52, 40, 80, 98],\n",
        "        'Fourth Score':[np.nan, np.nan, np.nan, 65]}\n",
        " \n",
        "# creating a dataframe from dictionary\n",
        "df = pd.DataFrame(dict)\n",
        "   \n",
        "df"
      ],
      "metadata": {
        "colab": {
          "base_uri": "https://localhost:8080/",
          "height": 175
        },
        "id": "aJUJpzfbqh36",
        "outputId": "14c9b2d6-a50d-415c-a1f5-68dfa8d40544"
      },
      "execution_count": null,
      "outputs": [
        {
          "output_type": "execute_result",
          "data": {
            "text/plain": [
              "   First Score  Second Score  Third Score  Fourth Score\n",
              "0        100.0          30.0           52           NaN\n",
              "1         90.0           NaN           40           NaN\n",
              "2          NaN          45.0           80           NaN\n",
              "3         95.0          56.0           98          65.0"
            ],
            "text/html": [
              "\n",
              "  <div id=\"df-713434bb-293f-4dc0-985e-a922ba1416ef\">\n",
              "    <div class=\"colab-df-container\">\n",
              "      <div>\n",
              "<style scoped>\n",
              "    .dataframe tbody tr th:only-of-type {\n",
              "        vertical-align: middle;\n",
              "    }\n",
              "\n",
              "    .dataframe tbody tr th {\n",
              "        vertical-align: top;\n",
              "    }\n",
              "\n",
              "    .dataframe thead th {\n",
              "        text-align: right;\n",
              "    }\n",
              "</style>\n",
              "<table border=\"1\" class=\"dataframe\">\n",
              "  <thead>\n",
              "    <tr style=\"text-align: right;\">\n",
              "      <th></th>\n",
              "      <th>First Score</th>\n",
              "      <th>Second Score</th>\n",
              "      <th>Third Score</th>\n",
              "      <th>Fourth Score</th>\n",
              "    </tr>\n",
              "  </thead>\n",
              "  <tbody>\n",
              "    <tr>\n",
              "      <th>0</th>\n",
              "      <td>100.0</td>\n",
              "      <td>30.0</td>\n",
              "      <td>52</td>\n",
              "      <td>NaN</td>\n",
              "    </tr>\n",
              "    <tr>\n",
              "      <th>1</th>\n",
              "      <td>90.0</td>\n",
              "      <td>NaN</td>\n",
              "      <td>40</td>\n",
              "      <td>NaN</td>\n",
              "    </tr>\n",
              "    <tr>\n",
              "      <th>2</th>\n",
              "      <td>NaN</td>\n",
              "      <td>45.0</td>\n",
              "      <td>80</td>\n",
              "      <td>NaN</td>\n",
              "    </tr>\n",
              "    <tr>\n",
              "      <th>3</th>\n",
              "      <td>95.0</td>\n",
              "      <td>56.0</td>\n",
              "      <td>98</td>\n",
              "      <td>65.0</td>\n",
              "    </tr>\n",
              "  </tbody>\n",
              "</table>\n",
              "</div>\n",
              "      <button class=\"colab-df-convert\" onclick=\"convertToInteractive('df-713434bb-293f-4dc0-985e-a922ba1416ef')\"\n",
              "              title=\"Convert this dataframe to an interactive table.\"\n",
              "              style=\"display:none;\">\n",
              "        \n",
              "  <svg xmlns=\"http://www.w3.org/2000/svg\" height=\"24px\"viewBox=\"0 0 24 24\"\n",
              "       width=\"24px\">\n",
              "    <path d=\"M0 0h24v24H0V0z\" fill=\"none\"/>\n",
              "    <path d=\"M18.56 5.44l.94 2.06.94-2.06 2.06-.94-2.06-.94-.94-2.06-.94 2.06-2.06.94zm-11 1L8.5 8.5l.94-2.06 2.06-.94-2.06-.94L8.5 2.5l-.94 2.06-2.06.94zm10 10l.94 2.06.94-2.06 2.06-.94-2.06-.94-.94-2.06-.94 2.06-2.06.94z\"/><path d=\"M17.41 7.96l-1.37-1.37c-.4-.4-.92-.59-1.43-.59-.52 0-1.04.2-1.43.59L10.3 9.45l-7.72 7.72c-.78.78-.78 2.05 0 2.83L4 21.41c.39.39.9.59 1.41.59.51 0 1.02-.2 1.41-.59l7.78-7.78 2.81-2.81c.8-.78.8-2.07 0-2.86zM5.41 20L4 18.59l7.72-7.72 1.47 1.35L5.41 20z\"/>\n",
              "  </svg>\n",
              "      </button>\n",
              "      \n",
              "  <style>\n",
              "    .colab-df-container {\n",
              "      display:flex;\n",
              "      flex-wrap:wrap;\n",
              "      gap: 12px;\n",
              "    }\n",
              "\n",
              "    .colab-df-convert {\n",
              "      background-color: #E8F0FE;\n",
              "      border: none;\n",
              "      border-radius: 50%;\n",
              "      cursor: pointer;\n",
              "      display: none;\n",
              "      fill: #1967D2;\n",
              "      height: 32px;\n",
              "      padding: 0 0 0 0;\n",
              "      width: 32px;\n",
              "    }\n",
              "\n",
              "    .colab-df-convert:hover {\n",
              "      background-color: #E2EBFA;\n",
              "      box-shadow: 0px 1px 2px rgba(60, 64, 67, 0.3), 0px 1px 3px 1px rgba(60, 64, 67, 0.15);\n",
              "      fill: #174EA6;\n",
              "    }\n",
              "\n",
              "    [theme=dark] .colab-df-convert {\n",
              "      background-color: #3B4455;\n",
              "      fill: #D2E3FC;\n",
              "    }\n",
              "\n",
              "    [theme=dark] .colab-df-convert:hover {\n",
              "      background-color: #434B5C;\n",
              "      box-shadow: 0px 1px 3px 1px rgba(0, 0, 0, 0.15);\n",
              "      filter: drop-shadow(0px 1px 2px rgba(0, 0, 0, 0.3));\n",
              "      fill: #FFFFFF;\n",
              "    }\n",
              "  </style>\n",
              "\n",
              "      <script>\n",
              "        const buttonEl =\n",
              "          document.querySelector('#df-713434bb-293f-4dc0-985e-a922ba1416ef button.colab-df-convert');\n",
              "        buttonEl.style.display =\n",
              "          google.colab.kernel.accessAllowed ? 'block' : 'none';\n",
              "\n",
              "        async function convertToInteractive(key) {\n",
              "          const element = document.querySelector('#df-713434bb-293f-4dc0-985e-a922ba1416ef');\n",
              "          const dataTable =\n",
              "            await google.colab.kernel.invokeFunction('convertToInteractive',\n",
              "                                                     [key], {});\n",
              "          if (!dataTable) return;\n",
              "\n",
              "          const docLinkHtml = 'Like what you see? Visit the ' +\n",
              "            '<a target=\"_blank\" href=https://colab.research.google.com/notebooks/data_table.ipynb>data table notebook</a>'\n",
              "            + ' to learn more about interactive tables.';\n",
              "          element.innerHTML = '';\n",
              "          dataTable['output_type'] = 'display_data';\n",
              "          await google.colab.output.renderOutput(dataTable, element);\n",
              "          const docLink = document.createElement('div');\n",
              "          docLink.innerHTML = docLinkHtml;\n",
              "          element.appendChild(docLink);\n",
              "        }\n",
              "      </script>\n",
              "    </div>\n",
              "  </div>\n",
              "  "
            ]
          },
          "metadata": {},
          "execution_count": 12
        }
      ]
    },
    {
      "cell_type": "markdown",
      "source": [
        "Now we drop rows with at least one Nan value (Null value)\n",
        "\n"
      ],
      "metadata": {
        "id": "nBVGqo0rqlwO"
      }
    },
    {
      "cell_type": "code",
      "source": [
        "# importing pandas as pd\n",
        "import pandas as pd\n",
        " \n",
        "# importing numpy as np\n",
        "import numpy as np\n",
        " \n",
        "# dictionary of lists\n",
        "dict = {'First Score':[100, 90, np.nan, 95],\n",
        "        'Second Score': [30, np.nan, 45, 56],\n",
        "        'Third Score':[52, 40, 80, 98],\n",
        "        'Fourth Score':[np.nan, np.nan, np.nan, 65]}\n",
        " \n",
        "# creating a dataframe from dictionary\n",
        "df = pd.DataFrame(dict)\n",
        " \n",
        "# using dropna() function  \n",
        "df.dropna()"
      ],
      "metadata": {
        "colab": {
          "base_uri": "https://localhost:8080/",
          "height": 81
        },
        "id": "OSKtCKYyqnbZ",
        "outputId": "16b33424-b66d-43f7-830e-042056afd1d7"
      },
      "execution_count": null,
      "outputs": [
        {
          "output_type": "execute_result",
          "data": {
            "text/plain": [
              "   First Score  Second Score  Third Score  Fourth Score\n",
              "3         95.0          56.0           98          65.0"
            ],
            "text/html": [
              "\n",
              "  <div id=\"df-311cea4e-f02a-494c-8ba3-59ccb3fea560\">\n",
              "    <div class=\"colab-df-container\">\n",
              "      <div>\n",
              "<style scoped>\n",
              "    .dataframe tbody tr th:only-of-type {\n",
              "        vertical-align: middle;\n",
              "    }\n",
              "\n",
              "    .dataframe tbody tr th {\n",
              "        vertical-align: top;\n",
              "    }\n",
              "\n",
              "    .dataframe thead th {\n",
              "        text-align: right;\n",
              "    }\n",
              "</style>\n",
              "<table border=\"1\" class=\"dataframe\">\n",
              "  <thead>\n",
              "    <tr style=\"text-align: right;\">\n",
              "      <th></th>\n",
              "      <th>First Score</th>\n",
              "      <th>Second Score</th>\n",
              "      <th>Third Score</th>\n",
              "      <th>Fourth Score</th>\n",
              "    </tr>\n",
              "  </thead>\n",
              "  <tbody>\n",
              "    <tr>\n",
              "      <th>3</th>\n",
              "      <td>95.0</td>\n",
              "      <td>56.0</td>\n",
              "      <td>98</td>\n",
              "      <td>65.0</td>\n",
              "    </tr>\n",
              "  </tbody>\n",
              "</table>\n",
              "</div>\n",
              "      <button class=\"colab-df-convert\" onclick=\"convertToInteractive('df-311cea4e-f02a-494c-8ba3-59ccb3fea560')\"\n",
              "              title=\"Convert this dataframe to an interactive table.\"\n",
              "              style=\"display:none;\">\n",
              "        \n",
              "  <svg xmlns=\"http://www.w3.org/2000/svg\" height=\"24px\"viewBox=\"0 0 24 24\"\n",
              "       width=\"24px\">\n",
              "    <path d=\"M0 0h24v24H0V0z\" fill=\"none\"/>\n",
              "    <path d=\"M18.56 5.44l.94 2.06.94-2.06 2.06-.94-2.06-.94-.94-2.06-.94 2.06-2.06.94zm-11 1L8.5 8.5l.94-2.06 2.06-.94-2.06-.94L8.5 2.5l-.94 2.06-2.06.94zm10 10l.94 2.06.94-2.06 2.06-.94-2.06-.94-.94-2.06-.94 2.06-2.06.94z\"/><path d=\"M17.41 7.96l-1.37-1.37c-.4-.4-.92-.59-1.43-.59-.52 0-1.04.2-1.43.59L10.3 9.45l-7.72 7.72c-.78.78-.78 2.05 0 2.83L4 21.41c.39.39.9.59 1.41.59.51 0 1.02-.2 1.41-.59l7.78-7.78 2.81-2.81c.8-.78.8-2.07 0-2.86zM5.41 20L4 18.59l7.72-7.72 1.47 1.35L5.41 20z\"/>\n",
              "  </svg>\n",
              "      </button>\n",
              "      \n",
              "  <style>\n",
              "    .colab-df-container {\n",
              "      display:flex;\n",
              "      flex-wrap:wrap;\n",
              "      gap: 12px;\n",
              "    }\n",
              "\n",
              "    .colab-df-convert {\n",
              "      background-color: #E8F0FE;\n",
              "      border: none;\n",
              "      border-radius: 50%;\n",
              "      cursor: pointer;\n",
              "      display: none;\n",
              "      fill: #1967D2;\n",
              "      height: 32px;\n",
              "      padding: 0 0 0 0;\n",
              "      width: 32px;\n",
              "    }\n",
              "\n",
              "    .colab-df-convert:hover {\n",
              "      background-color: #E2EBFA;\n",
              "      box-shadow: 0px 1px 2px rgba(60, 64, 67, 0.3), 0px 1px 3px 1px rgba(60, 64, 67, 0.15);\n",
              "      fill: #174EA6;\n",
              "    }\n",
              "\n",
              "    [theme=dark] .colab-df-convert {\n",
              "      background-color: #3B4455;\n",
              "      fill: #D2E3FC;\n",
              "    }\n",
              "\n",
              "    [theme=dark] .colab-df-convert:hover {\n",
              "      background-color: #434B5C;\n",
              "      box-shadow: 0px 1px 3px 1px rgba(0, 0, 0, 0.15);\n",
              "      filter: drop-shadow(0px 1px 2px rgba(0, 0, 0, 0.3));\n",
              "      fill: #FFFFFF;\n",
              "    }\n",
              "  </style>\n",
              "\n",
              "      <script>\n",
              "        const buttonEl =\n",
              "          document.querySelector('#df-311cea4e-f02a-494c-8ba3-59ccb3fea560 button.colab-df-convert');\n",
              "        buttonEl.style.display =\n",
              "          google.colab.kernel.accessAllowed ? 'block' : 'none';\n",
              "\n",
              "        async function convertToInteractive(key) {\n",
              "          const element = document.querySelector('#df-311cea4e-f02a-494c-8ba3-59ccb3fea560');\n",
              "          const dataTable =\n",
              "            await google.colab.kernel.invokeFunction('convertToInteractive',\n",
              "                                                     [key], {});\n",
              "          if (!dataTable) return;\n",
              "\n",
              "          const docLinkHtml = 'Like what you see? Visit the ' +\n",
              "            '<a target=\"_blank\" href=https://colab.research.google.com/notebooks/data_table.ipynb>data table notebook</a>'\n",
              "            + ' to learn more about interactive tables.';\n",
              "          element.innerHTML = '';\n",
              "          dataTable['output_type'] = 'display_data';\n",
              "          await google.colab.output.renderOutput(dataTable, element);\n",
              "          const docLink = document.createElement('div');\n",
              "          docLink.innerHTML = docLinkHtml;\n",
              "          element.appendChild(docLink);\n",
              "        }\n",
              "      </script>\n",
              "    </div>\n",
              "  </div>\n",
              "  "
            ]
          },
          "metadata": {},
          "execution_count": 13
        }
      ]
    },
    {
      "cell_type": "markdown",
      "source": [
        "## Iterating over rows and columns\n",
        "Iteration is a general term for taking each item of something, one after another. Pandas DataFrame consists of rows and columns so, in order to iterate over dataframe, we have to iterate a dataframe like a dictionary."
      ],
      "metadata": {
        "id": "aLkfQ8sOqvyI"
      }
    },
    {
      "cell_type": "markdown",
      "source": [
        "### Iterating over rows\n",
        "In order to iterate over rows, we can use three function iteritems(), iterrows(), itertuples() . These three function will help in iteration over rows."
      ],
      "metadata": {
        "id": "pFLFgkZLqzsZ"
      }
    },
    {
      "cell_type": "code",
      "source": [
        "# importing pandas as pd\n",
        "import pandas as pd\n",
        "  \n",
        "# dictionary of lists\n",
        "dict = {'name':[\"Shah\", \"Liza\", \"Aiman\", \"Afiqah\"],\n",
        "        'degree': [\"MBA\", \"BCA\", \"M.Tech\", \"MBA\"],\n",
        "        'score':[90, 40, 80, 98]}\n",
        " \n",
        "# creating a dataframe from a dictionary \n",
        "df = pd.DataFrame(dict)\n",
        " \n",
        "print(df)"
      ],
      "metadata": {
        "colab": {
          "base_uri": "https://localhost:8080/"
        },
        "id": "0JPCMStZq4RF",
        "outputId": "218327af-1652-4146-fb80-83c5778322df"
      },
      "execution_count": null,
      "outputs": [
        {
          "output_type": "stream",
          "name": "stdout",
          "text": [
            "     name  degree  score\n",
            "0    Shah     MBA     90\n",
            "1    Liza     BCA     40\n",
            "2   Aiman  M.Tech     80\n",
            "3  Afiqah     MBA     98\n"
          ]
        }
      ]
    },
    {
      "cell_type": "markdown",
      "source": [
        "Now we apply iterrows() function in order to get a each element of rows.\n",
        "\n"
      ],
      "metadata": {
        "id": "2_NOGTVLrCRm"
      }
    },
    {
      "cell_type": "code",
      "source": [
        "# importing pandas as pd\n",
        "import pandas as pd\n",
        "  \n",
        "# dictionary of lists\n",
        "dict = {'name':[\"Shah\", \"Liza\", \"Aiman\", \"Afiqah\"],\n",
        "        'degree': [\"MBA\", \"BCA\", \"M.Tech\", \"MBA\"],\n",
        "        'score':[90, 40, 80, 98]}\n",
        " \n",
        "# creating a dataframe from a dictionary \n",
        "df = pd.DataFrame(dict)\n",
        " \n",
        "# iterating over rows using iterrows() function \n",
        "for i, j in df.iterrows():\n",
        "    print(i, j)\n",
        "    print()"
      ],
      "metadata": {
        "colab": {
          "base_uri": "https://localhost:8080/"
        },
        "id": "sCgACzhbrFor",
        "outputId": "37ad87e6-78ac-4544-9070-a9f16947e3ec"
      },
      "execution_count": null,
      "outputs": [
        {
          "output_type": "stream",
          "name": "stdout",
          "text": [
            "0 name      Shah\n",
            "degree     MBA\n",
            "score       90\n",
            "Name: 0, dtype: object\n",
            "\n",
            "1 name      Liza\n",
            "degree     BCA\n",
            "score       40\n",
            "Name: 1, dtype: object\n",
            "\n",
            "2 name       Aiman\n",
            "degree    M.Tech\n",
            "score         80\n",
            "Name: 2, dtype: object\n",
            "\n",
            "3 name      Afiqah\n",
            "degree       MBA\n",
            "score         98\n",
            "Name: 3, dtype: object\n",
            "\n"
          ]
        }
      ]
    },
    {
      "cell_type": "markdown",
      "source": [
        "### Iterating over Columns\n",
        "In order to iterate over columns, we need to create a list of dataframe columns and then iterating through that list to pull out the dataframe columns."
      ],
      "metadata": {
        "id": "BBaVqPv7rQ6a"
      }
    },
    {
      "cell_type": "code",
      "source": [
        "# importing pandas as pd\n",
        "import pandas as pd\n",
        "   \n",
        "# dictionary of lists\n",
        "dict = {'name':[\"Shah\", \"Liza\", \"Aiman\", \"Afiqah\"],\n",
        "        'degree': [\"MBA\", \"BCA\", \"M.Tech\", \"MBA\"],\n",
        "        'score':[90, 40, 80, 98]}\n",
        "  \n",
        "# creating a dataframe from a dictionary \n",
        "df = pd.DataFrame(dict)\n",
        " \n",
        "print(df)"
      ],
      "metadata": {
        "colab": {
          "base_uri": "https://localhost:8080/"
        },
        "id": "13CbFHnzrd6G",
        "outputId": "18d0a5ec-d6e7-4045-b280-203f3be557ad"
      },
      "execution_count": null,
      "outputs": [
        {
          "output_type": "stream",
          "name": "stdout",
          "text": [
            "     name  degree  score\n",
            "0    Shah     MBA     90\n",
            "1    Liza     BCA     40\n",
            "2   Aiman  M.Tech     80\n",
            "3  Afiqah     MBA     98\n"
          ]
        }
      ]
    },
    {
      "cell_type": "markdown",
      "source": [
        "Now we iterate through columns in order to iterate through columns we first create a list of dataframe columns and then iterate through list."
      ],
      "metadata": {
        "id": "AIwVdLXRrm1u"
      }
    },
    {
      "cell_type": "code",
      "source": [
        "# creating a list of dataframe columns\n",
        "columns = list(df)\n",
        " \n",
        "for i in columns:\n",
        " \n",
        "    # printing the third element of the column\n",
        "    print (df[i][2])"
      ],
      "metadata": {
        "id": "GkDfj-0Vrs_c",
        "outputId": "3f2e21c3-975d-4fda-819b-e78cd5a85937",
        "colab": {
          "base_uri": "https://localhost:8080/"
        }
      },
      "execution_count": null,
      "outputs": [
        {
          "output_type": "stream",
          "name": "stdout",
          "text": [
            "Aiman\n",
            "M.Tech\n",
            "80\n"
          ]
        }
      ]
    }
  ]
}